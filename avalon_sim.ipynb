{
 "cells": [
  {
   "cell_type": "code",
   "execution_count": 1,
   "metadata": {},
   "outputs": [],
   "source": [
    "import numpy as np\n",
    "\n",
    "\n",
    "class Avalon:\n",
    "    \n",
    "    \"\"\"A simulator for Avalon\n",
    "    \"\"\"\n",
    "    \n",
    "    def __init__(self, players, chars=None, seed=None):\n",
    "        self.players = players\n",
    "        self.chars = chars\n",
    "        self.seed = seed\n",
    "        \n",
    "        if chars is not None:                \n",
    "            if len(players) != len(chars):\n",
    "                raise RuntimeError(\"Number of players does not match number of characters\")\n",
    "        else:\n",
    "            if len(players) == 5:\n",
    "                self.chars = [\"Merlin\", \"Percival\", \"Good Guy 1\", \n",
    "                    \"Assassin\", \"Morgana\"]\n",
    "            elif len(players) == 6:\n",
    "                self.chars = [\"Merlin\", \"Percival\", \"Good Guy 1\", \"Good Guy 2\", \n",
    "                    \"Assassin\", \"Morgana\"]\n",
    "            elif len(players) == 7:\n",
    "                self.chars = [\"Merlin\", \"Percival\", \"Good Guy 1\", \"Good Guy 2\", \n",
    "                    \"Assassin\", \"Morgana\", \"Oberon\"]        \n",
    "            elif len(players) == 8:\n",
    "                self.chars = [\"Merlin\", \"Percival\", \"Good Guy 1\", \"Good Guy 2\", \"Good Guy 3\", \n",
    "                    \"Assassin\", \"Morgana\", \"Bad Guy 1\"]  \n",
    "            elif len(players) == 9:\n",
    "                self.chars = [\"Merlin\", \"Percival\", \"Good Guy 1\", \"Good Guy 2\", \"Good Guy 3\", \"Good Guy 4\",\n",
    "                    \"Assassin\", \"Morgana\", \"Mordred\"]\n",
    "            elif len(players) == 10:\n",
    "                self.chars = [\"Merlin\", \"Percival\", \"Good Guy 1\", \"Good Guy 2\", \"Good Guy 3\", \"Good Guy 4\",\n",
    "                    \"Assassin\", \"Morgana\", \"Oberon\", \"Mordred\"]\n",
    "            else:\n",
    "                raise RuntimeError(\"Too few or too many players\")\n",
    "\n",
    "        print(\"Characters in {0}-person game: {1}\".format(len(players), self.chars))\n",
    "    \n",
    "    def _setup(self):\n",
    "        np.random.seed(self.seed)\n",
    "        \n",
    "        self.perm = np.random.permutation(self.chars)\n",
    "        self.draw = {self.players[i]: {\"char\": self.perm[i]} for i in range(len(self.players))}\n",
    "        self.whois = dict(zip(self.perm, self.players))\n",
    "\n",
    "        self.bad_guys = list(\n",
    "            {\"Mordred\", \"Morgana\", \"Assassin\", \"Oberon\", \"Bad Guy 1\"} & set(self.chars))\n",
    "        \n",
    "        self.who_are_bad_guys_no_oberon = list(np.random.permutation([\n",
    "            self.whois[bad_guy] for bad_guy in self.bad_guys if bad_guy != \"Oberon\"]))\n",
    "        self.who_are_bad_guys_no_mordred = list(np.random.permutation([\n",
    "            self.whois[bad_guy] for bad_guy in self.bad_guys if bad_guy != \"Mordred\"]))\n",
    "        \n",
    "    def _bad_guys_meet(self):\n",
    "        for bad_guy in self.bad_guys:\n",
    "            if bad_guy != \"Oberon\":\n",
    "                self.draw[self.whois[bad_guy]][\"sees\"] = [\n",
    "                    who for who in self.who_are_bad_guys_no_oberon if who != self.whois[bad_guy]]\n",
    "\n",
    "    def _merlin_sees(self):\n",
    "        self.draw[self.whois[\"Merlin\"]][\"sees\"] = {\"bad guys but morderd\": self.who_are_bad_guys_no_mordred}\n",
    "\n",
    "    def _percival_sees(self):\n",
    "        self.draw[self.whois[\"Percival\"]][\"sees\"] = {\n",
    "            \"merlin-ish\": list(np.random.permutation([self.whois[\"Merlin\"], self.whois[\"Morgana\"]]))}\n",
    "        \n",
    "    def sim(self):\n",
    "        self._setup()\n",
    "        self._bad_guys_meet()\n",
    "        self._merlin_sees()\n",
    "        self._percival_sees()\n",
    "        return self.draw"
   ]
  },
  {
   "cell_type": "code",
   "execution_count": 2,
   "metadata": {},
   "outputs": [
    {
     "name": "stdout",
     "output_type": "stream",
     "text": [
      "Characters in 10-person game: ['Merlin', 'Percival', 'Good Guy 1', 'Good Guy 2', 'Good Guy 3', 'Good Guy 4', 'Assassin', 'Morgana', 'Oberon', 'Mordred']\n"
     ]
    },
    {
     "data": {
      "text/plain": [
       "{'char': 'Oberon'}"
      ]
     },
     "execution_count": 2,
     "metadata": {},
     "output_type": "execute_result"
    }
   ],
   "source": [
    "players = [\"Yang\", \"p2\", \"p3\", \"p4\", \"p5\", \"p6\", \"p7\", \"p8\", \"p9\", \"p10\"]\n",
    "avalon = Avalon(players)\n",
    "avalon.sim()[\"Yang\"]"
   ]
  },
  {
   "cell_type": "code",
   "execution_count": null,
   "metadata": {},
   "outputs": [],
   "source": []
  }
 ],
 "metadata": {
  "kernelspec": {
   "display_name": "Python 3",
   "language": "python",
   "name": "python3"
  },
  "language_info": {
   "codemirror_mode": {
    "name": "ipython",
    "version": 3
   },
   "file_extension": ".py",
   "mimetype": "text/x-python",
   "name": "python",
   "nbconvert_exporter": "python",
   "pygments_lexer": "ipython3",
   "version": "3.7.3"
  }
 },
 "nbformat": 4,
 "nbformat_minor": 2
}
